{
 "cells": [
  {
   "cell_type": "markdown",
   "metadata": {},
   "source": [
    "## Importing Libraries"
   ]
  },
  {
   "cell_type": "code",
   "execution_count": 1,
   "metadata": {},
   "outputs": [],
   "source": [
    "import pickle\n",
    "import numpy as np\n",
    "import matplotlib.pyplot as plt\n",
    "\n",
    "# Function to calculate the MSE Error\n",
    "def MSE(y_true, y_pred):\n",
    "    return np.mean(np.power((y_true - y_pred), 2))"
   ]
  },
  {
   "cell_type": "markdown",
   "metadata": {},
   "source": [
    "### A Generic Layer class"
   ]
  },
  {
   "cell_type": "code",
   "execution_count": 2,
   "metadata": {},
   "outputs": [],
   "source": [
    "class Layer:\n",
    "    def __init__(self):\n",
    "        self.W = []\n",
    "        self.b = []\n",
    "\n",
    "    def forward(self, X):\n",
    "        raise NotImplementedError\n",
    "\n",
    "    def backward(self, output_error, learning_rate):\n",
    "        raise NotImplementedError"
   ]
  },
  {
   "cell_type": "markdown",
   "metadata": {},
   "source": [
    "### Implementation of different Layers"
   ]
  },
  {
   "cell_type": "code",
   "execution_count": 3,
   "metadata": {},
   "outputs": [],
   "source": [
    "class Linear(Layer):\n",
    "    def __init__(self, input_size, output_size):\n",
    "        super().__init__()\n",
    "\n",
    "        np.random.seed(0)\n",
    "        self.W = np.random.randn(input_size, output_size)\n",
    "        self.b = np.zeros((1, output_size))\n",
    "\n",
    "    def forward(self, X):\n",
    "        self.X = X\n",
    "        out = np.dot(X, self.W) + self.b\n",
    "        return out\n",
    "\n",
    "    def backward(self, output_error, learning_rate):\n",
    "        dx = np.dot(output_error, self.W.T)\n",
    "        dW = np.dot(self.X.T, output_error)\n",
    "        db = np.sum(output_error, axis=0, keepdims=True)\n",
    "\n",
    "        self.W -= learning_rate * dW\n",
    "        self.b -= learning_rate * db\n",
    "        return dx"
   ]
  },
  {
   "cell_type": "code",
   "execution_count": 4,
   "metadata": {},
   "outputs": [],
   "source": [
    "class Sigmoid(Layer):\n",
    "    def __init__(self):\n",
    "        super().__init__()\n",
    "\n",
    "    def forward(self, X):\n",
    "        self.out = 1.0 / (1.0 + np.exp(-X))\n",
    "        return self.out\n",
    "\n",
    "    def backward(self, output_error, learning_rate):\n",
    "        sigmoid_grad = self.out * (1.0 - self.out)\n",
    "        input_error = output_error * sigmoid_grad\n",
    "        return input_error"
   ]
  },
  {
   "cell_type": "code",
   "execution_count": 5,
   "metadata": {},
   "outputs": [],
   "source": [
    "class Tanh(Layer):\n",
    "    def __init__(self):\n",
    "        super().__init__()\n",
    "\n",
    "    def forward(self, X):\n",
    "        self.out = np.tanh(X)\n",
    "        return self.out\n",
    "\n",
    "    def backward(self, output_error, learning_rate):\n",
    "        tanh_grad = 1.0 - np.square(self.out)\n",
    "        input_error = tanh_grad * output_error\n",
    "        return input_error"
   ]
  },
  {
   "cell_type": "code",
   "execution_count": 6,
   "metadata": {},
   "outputs": [],
   "source": [
    "class Softmax(Layer):\n",
    "    def __init__(self):\n",
    "        super().__init__()\n",
    "\n",
    "    def forward(self, X):\n",
    "        self.X = X\n",
    "        shifted_input = X - np.max(X, axis=1, keepdims=True)\n",
    "        exp_input = np.exp(shifted_input)\n",
    "        self.output = exp_input / np.sum(exp_input, axis=1, keepdims=True)\n",
    "        return self.output\n",
    "\n",
    "    def backward(self, output_error, learning_rate):\n",
    "        grad = self.output * (1 - self.output) - sum([self.output * self.output])\n",
    "        return  grad * output_error"
   ]
  },
  {
   "cell_type": "code",
   "execution_count": 7,
   "metadata": {},
   "outputs": [],
   "source": [
    "class Sequential(Layer):\n",
    "    def __init__(self, layers=None):\n",
    "        self.training_loss = []\n",
    "        if layers is None:\n",
    "            self.layers = []\n",
    "        else:\n",
    "            self.layers = layers\n",
    "\n",
    "    def add(self, layer):\n",
    "        self.layers.append(layer)\n",
    "\n",
    "    def loss(self, y_true, y_pred):\n",
    "        return 2*(y_pred-y_true)/y_true.size\n",
    "\n",
    "    def forward(self, X):\n",
    "        for layer in self.layers:\n",
    "            X = layer.forward(X)\n",
    "        return X\n",
    "\n",
    "    def backward(self, output_error, learning_rate):\n",
    "        for layer in reversed(self.layers):\n",
    "            output_error = layer.backward(output_error, learning_rate)\n",
    "        return output_error\n",
    "\n",
    "    def fit(self, X, Y, epochs, learning_rate):\n",
    "        for _ in range(epochs):\n",
    "            output = self.forward(X)\n",
    "            output_err = self.loss(Y, output)\n",
    "            self.training_loss.append(MSE(Y, output))\n",
    "            self.backward(output_err, learning_rate)\n",
    "\n",
    "    def predict(self, X):\n",
    "        out = self.forward(X)\n",
    "        return out\n",
    "\n",
    "    def plot(self):\n",
    "        plt.plot(self.training_loss)\n",
    "        plt.xlabel(\"Epocs\")\n",
    "        plt.ylabel(\"Training Loss\")\n",
    "        plt.title(\"Training Loss vs epochs\")\n",
    "        plt.show()\n",
    "\n",
    "    def save_weights(self, filename):\n",
    "        weights = []\n",
    "        for layer in self.layers:\n",
    "            weights.append(layer.W)\n",
    "            weights.append(layer.b)\n",
    "\n",
    "        with open(filename, 'wb') as f:\n",
    "            pickle.dump(weights, f)\n",
    "\n",
    "    def load_weights(self, filename):\n",
    "        with open(filename, 'rb') as f:\n",
    "            weights = pickle.load(f)\n",
    "\n",
    "        index = 0\n",
    "        for layer in self.layers:\n",
    "            layer.W = weights[index]\n",
    "            index = index + 1\n",
    "            layer.b = weights[index]\n",
    "            index = index + 1\n"
   ]
  },
  {
   "cell_type": "markdown",
   "metadata": {},
   "source": [
    "# Demo of Sequential Neural Network on 'XOR problem'"
   ]
  },
  {
   "cell_type": "markdown",
   "metadata": {},
   "source": [
    "###  Creating simple XOR dataset to test on XOR-Operation"
   ]
  },
  {
   "cell_type": "code",
   "execution_count": 8,
   "metadata": {},
   "outputs": [],
   "source": [
    "X_train = np.array([\n",
    "    [0, 0],\n",
    "    [0, 1],\n",
    "    [1, 0],\n",
    "    [1, 1]\n",
    "])\n",
    "\n",
    "Y_train = np.array([\n",
    "    [0],\n",
    "    [1],\n",
    "    [1],\n",
    "    [0]\n",
    "])\n",
    "\n",
    "X_test = [[0, 1]]\n",
    "Y_test = [[1]]"
   ]
  },
  {
   "cell_type": "markdown",
   "metadata": {},
   "source": [
    "### Linear-Sigmoid Model"
   ]
  },
  {
   "cell_type": "code",
   "execution_count": 9,
   "metadata": {},
   "outputs": [
    {
     "name": "stdout",
     "output_type": "stream",
     "text": [
      "The MSE Error of the Model(on Train Dataset): 0.25484637210628197\n",
      "The MSE Error of the Model(on Test Dataset): 0.2926875526727247\n"
     ]
    },
    {
     "data": {
      "image/png": "[encoded data removed]",
      "text/plain": [
       "<Figure size 640x480 with 1 Axes>"
      ]
     },
     "metadata": {},
     "output_type": "display_data"
    }
   ],
   "source": [
    "def LinearSigmoidModel(x_train, y_train, x_test, y_test, epochs, learning_rate):\n",
    "    model = Sequential()\n",
    "\n",
    "    # Add 1 hidden layer with sigmoid as activation function\n",
    "    model.add(Linear(2, 1))\n",
    "    model.add(Sigmoid())\n",
    "\n",
    "    # training the model\n",
    "    model.fit(x_train, y_train, epochs, learning_rate)\n",
    "\n",
    "    # MSE of train dataset\n",
    "    y_train_pred = model.predict(x_train)\n",
    "    mse_error_train = MSE(y_train, y_train_pred)\n",
    "    print(f\"The MSE Error of the Model(on Train Dataset): {mse_error_train}\")\n",
    "\n",
    "    # MSE of test dataset\n",
    "    y_test_pred = model.predict(x_test)\n",
    "    mse_error_test = MSE(y_test, y_test_pred)\n",
    "    print(f\"The MSE Error of the Model(on Test Dataset): {mse_error_test}\")\n",
    "\n",
    "    # save weights\n",
    "    model.save_weights(\"Dump/linear_sigmoid.sav\")\n",
    "    \n",
    "    # plotting the Training loss vs epochs \n",
    "    model.plot()\n",
    "\n",
    "LinearSigmoidModel(X_train, Y_train, X_test, Y_test, epochs=1000, learning_rate=0.05)"
   ]
  },
  {
   "cell_type": "markdown",
   "metadata": {},
   "source": [
    "### Linear-Tanh Model"
   ]
  },
  {
   "cell_type": "code",
   "execution_count": 10,
   "metadata": {},
   "outputs": [
    {
     "name": "stdout",
     "output_type": "stream",
     "text": [
      "The MSE Error of the Model(on Train Dataset): 0.25172080701898536\n",
      "The MSE Error of the Model(on Test Dataset): 0.009229549034951635\n"
     ]
    },
    {
     "data": {
      "image/png": "[encoded data removed]",
      "text/plain": [
       "<Figure size 640x480 with 1 Axes>"
      ]
     },
     "metadata": {},
     "output_type": "display_data"
    }
   ],
   "source": [
    "def LinearTanhModel(x_train, y_train, x_test, y_test, epochs, learning_rate):\n",
    "    model = Sequential()\n",
    "\n",
    "    # Add 1 hidden layer with sigmoid as activation function\n",
    "    model.add(Linear(2, 1))\n",
    "    model.add(Tanh())\n",
    "\n",
    "    # training the model\n",
    "    model.fit(x_train, y_train, epochs, learning_rate)\n",
    "\n",
    "    # MSE of train dataset\n",
    "    y_train_pred = model.predict(x_train)\n",
    "    mse_error_train = MSE(y_train, y_train_pred)\n",
    "    print(f\"The MSE Error of the Model(on Train Dataset): {mse_error_train}\")\n",
    "\n",
    "    # MSE of test dataset\n",
    "    y_test_pred = model.predict(x_test)\n",
    "    mse_error_test = MSE(y_test, y_test_pred)\n",
    "    print(f\"The MSE Error of the Model(on Test Dataset): {mse_error_test}\")\n",
    "\n",
    "    # save weights\n",
    "    model.save_weights(\"Dump/linear_tanh.sav\")\n",
    "    \n",
    "    # plotting the Training loss vs epochs\n",
    "    model.plot()\n",
    "    \n",
    "LinearTanhModel(X_train, Y_train, X_test, Y_test, epochs=1000, learning_rate=0.05)"
   ]
  },
  {
   "cell_type": "markdown",
   "metadata": {},
   "source": [
    "### Loading any previously saved Model"
   ]
  },
  {
   "cell_type": "code",
   "execution_count": 11,
   "metadata": {},
   "outputs": [
    {
     "name": "stdout",
     "output_type": "stream",
     "text": [
      "The MSE Error of the Model(on Train Dataset): 0.25484637210628197\n",
      "The MSE Error of the Model(on Test Dataset): 0.2926875526727247\n"
     ]
    }
   ],
   "source": [
    "def run_previous_saved_model(x_train, y_train, x_test, y_test, epochs, learning_rate):\n",
    "    model = Sequential()\n",
    "\n",
    "    # Add 1 hidden layer with sigmoid as activation function\n",
    "    model.add(Linear(2, 1))\n",
    "    model.add(Sigmoid())\n",
    "\n",
    "    ########## No need to train model ###########\n",
    "    # use saved model weights\n",
    "    model.load_weights(\"Dump/linear_sigmoid.sav\")\n",
    "\n",
    "    # MSE of train dataset\n",
    "    y_train_pred = model.predict(x_train)\n",
    "    mse_error_train = MSE(y_train, y_train_pred)\n",
    "    print(f\"The MSE Error of the Model(on Train Dataset): {mse_error_train}\")\n",
    "\n",
    "    # MSE of test dataset\n",
    "    y_test_pred = model.predict(x_test)\n",
    "    mse_error_test = MSE(y_test, y_test_pred)\n",
    "    print(f\"The MSE Error of the Model(on Test Dataset): {mse_error_test}\")\n",
    "\n",
    "\n",
    "run_previous_saved_model(X_train, Y_train, X_test, Y_test, epochs=1000, learning_rate=0.05)"
   ]
  }
 ],
 "metadata": {
  "kernelspec": {
   "display_name": "Python 3",
   "language": "python",
   "name": "python3"
  },
  "language_info": {
   "codemirror_mode": {
    "name": "ipython",
    "version": 3
   },
   "file_extension": ".py",
   "mimetype": "text/x-python",
   "name": "python",
   "nbconvert_exporter": "python",
   "pygments_lexer": "ipython3",
   "version": "3.10.12"
  },
  "orig_nbformat": 4
 },
 "nbformat": 4,
 "nbformat_minor": 2
}
